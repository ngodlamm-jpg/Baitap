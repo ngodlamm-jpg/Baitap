{
 "cells": [
  {
   "cell_type": "code",
   "execution_count": null,
   "id": "2c85c34a",
   "metadata": {},
   "outputs": [],
   "source": [
    "n = int(input())\n",
    "while (n != 0):\n",
    "    print(n % 10, end = \"\")\n",
    "    n //= 10"
   ]
  },
  {
   "cell_type": "code",
   "execution_count": null,
   "id": "5e82aae6",
   "metadata": {},
   "outputs": [],
   "source": [
    "a, b = map(int, input().split())\n",
    "a = a ^ b\n",
    "b = a ^ b\n",
    "a = a ^ b\n",
    "print(a, b)"
   ]
  },
  {
   "cell_type": "code",
   "execution_count": null,
   "id": "210df138",
   "metadata": {},
   "outputs": [],
   "source": [
    "n = int(input())\n",
    "print(n & (n - 1) == 0)"
   ]
  },
  {
   "cell_type": "code",
   "execution_count": null,
   "id": "00d3439c",
   "metadata": {},
   "outputs": [],
   "source": [
    "m, n = map(int, input().split())\n",
    "print(m // n)"
   ]
  },
  {
   "cell_type": "code",
   "execution_count": null,
   "id": "757b1543",
   "metadata": {},
   "outputs": [],
   "source": [
    "m, n = map(int, input().split())\n",
    "if (m / n != m // n):\n",
    "    print(m // n + 1)\n",
    "else:\n",
    "    print(m // n)"
   ]
  },
  {
   "cell_type": "code",
   "execution_count": null,
   "id": "1639de44",
   "metadata": {},
   "outputs": [],
   "source": [
    "x = int(input())\n",
    "if (x % 2 == 0):\n",
    "    print(\"Even\")\n",
    "else:\n",
    "    print(\"Odd\")"
   ]
  },
  {
   "cell_type": "code",
   "execution_count": null,
   "id": "6913ef7b",
   "metadata": {},
   "outputs": [],
   "source": [
    "a = int(input())\n",
    "b = int(input())\n",
    "if (a < 0 and b < 0):\n",
    "    print(\"Yes\")\n",
    "else:\n",
    "    print(\"No\")"
   ]
  },
  {
   "cell_type": "code",
   "execution_count": null,
   "id": "e08f666f",
   "metadata": {},
   "outputs": [],
   "source": [
    "s1 = input()\n",
    "s2 = input()\n",
    "print(len(s1) > len(s2))"
   ]
  },
  {
   "cell_type": "code",
   "execution_count": null,
   "id": "fd927090",
   "metadata": {},
   "outputs": [],
   "source": [
    "a = int(input())\n",
    "b = int(input())\n",
    "c = int(input())\n",
    "if (a + b > c and a + c > b and b + c > a):\n",
    "    print(\"Yes\")\n",
    "else:\n",
    "    print(\"No\")"
   ]
  },
  {
   "cell_type": "code",
   "execution_count": null,
   "id": "da69fed8",
   "metadata": {},
   "outputs": [],
   "source": [
    "a = int(input())\n",
    "b = int(input())\n",
    "c = int(input())\n",
    "d = int(input())\n",
    "print(max(a, b, c, d))"
   ]
  },
  {
   "cell_type": "code",
   "execution_count": null,
   "id": "06b5e882",
   "metadata": {},
   "outputs": [],
   "source": [
    "a, b, c = map(int, input().split())\n",
    "if (a + b > c and a + c > b and b + c > a):\n",
    "    if (a == b == c):\n",
    "        print(\"Tam giác đều\")\n",
    "    elif (a == b or a == c or b == c):\n",
    "        print(\"Tam giác cân\")\n",
    "    else:\n",
    "        print(\"Tam giác thường\")\n",
    "else:\n",
    "    print(\"Không phải tam giác\")"
   ]
  },
  {
   "cell_type": "code",
   "execution_count": null,
   "id": "cbd08768",
   "metadata": {},
   "outputs": [],
   "source": [
    "n = int(input())\n",
    "if ((n % 4 == 0 and n % 100 != 0) or (n % 400 == 0)):\n",
    "    print(\"Yes\")\n",
    "else:\n",
    "    print(\"No\")"
   ]
  },
  {
   "cell_type": "code",
   "execution_count": null,
   "id": "8cb4ec2a",
   "metadata": {},
   "outputs": [],
   "source": [
    "n = int(input())\n",
    "total = 0\n",
    "if (n > 100):\n",
    "    total += (n - 100) * 3000\n",
    "    n = 100\n",
    "if (n > 50):\n",
    "    total += (n - 50) * 2000\n",
    "    n = 50\n",
    "if (n > 0):\n",
    "    total += n * 1500\n",
    "print(total)"
   ]
  },
  {
   "cell_type": "code",
   "execution_count": null,
   "id": "6a51dc22",
   "metadata": {},
   "outputs": [],
   "source": [
    "a = float(input())\n",
    "b = float(input())\n",
    "if (a == 0 and b != 0):\n",
    "    print(\"vô nghiệm\")\n",
    "elif (a == 0 and b == 0):\n",
    "    print(\"vô số nghiệm\")\n",
    "else:\n",
    "    print(round(-b / a, 2))\n"
   ]
  },
  {
   "cell_type": "code",
   "execution_count": null,
   "id": "9e93f7b3",
   "metadata": {},
   "outputs": [],
   "source": [
    "n = float(input())\n",
    "if (n >= 8):\n",
    "    print(\"Giỏi\")\n",
    "elif (n >= 6.5):\n",
    "    print(\"Khá\")\n",
    "elif (n >= 5):\n",
    "    print(\"Trung bình\")\n",
    "else:\n",
    "    print(\"Yếu\")"
   ]
  },
  {
   "cell_type": "code",
   "execution_count": null,
   "id": "8fb337a4",
   "metadata": {},
   "outputs": [],
   "source": [
    "n = float(input())\n",
    "if (n == int(n)):\n",
    "    print(int(n), int(n), int(n))\n",
    "else:\n",
    "    if (n < 0):\n",
    "        print(int(n), int(n) - 1, end = \" \")\n",
    "        if (n - int(n) <= -0.5):\n",
    "            print(int(n) - 1)\n",
    "        else:\n",
    "            print(int(n))\n",
    "    else:\n",
    "        print(int(n) + 1, int(n), end = \" \")\n",
    "        if (n - int(n) >= 0.5):\n",
    "            print(int(n) + 1)\n",
    "        else:\n",
    "            print(int(n))\n"
   ]
  }
 ],
 "metadata": {
  "kernelspec": {
   "display_name": "Python 3",
   "language": "python",
   "name": "python3"
  },
  "language_info": {
   "codemirror_mode": {
    "name": "ipython",
    "version": 3
   },
   "file_extension": ".py",
   "mimetype": "text/x-python",
   "name": "python",
   "nbconvert_exporter": "python",
   "pygments_lexer": "ipython3",
   "version": "3.11.9"
  }
 },
 "nbformat": 4,
 "nbformat_minor": 5
}
