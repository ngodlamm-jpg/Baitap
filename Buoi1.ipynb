{
 "cells": [
  {
   "cell_type": "code",
   "execution_count": 1,
   "id": "7d25d4a2",
   "metadata": {},
   "outputs": [
    {
     "name": "stdout",
     "output_type": "stream",
     "text": [
      "Hello World!\n"
     ]
    }
   ],
   "source": [
    "print(\"Hello World!\")"
   ]
  },
  {
   "cell_type": "code",
   "execution_count": 2,
   "id": "095efe1a",
   "metadata": {},
   "outputs": [
    {
     "name": "stdout",
     "output_type": "stream",
     "text": [
      "Chào ngô\n"
     ]
    }
   ],
   "source": [
    "a = input()\n",
    "print(\"Chào\",a)"
   ]
  },
  {
   "cell_type": "code",
   "execution_count": 3,
   "id": "b90b74e9",
   "metadata": {},
   "outputs": [
    {
     "name": "stdout",
     "output_type": "stream",
     "text": [
      "5\n",
      "-1\n",
      "6\n",
      "0\n",
      "2\n",
      "0.67\n"
     ]
    }
   ],
   "source": [
    "a = int(input())\n",
    "b = int(input())\n",
    "print(a + b)\n",
    "print(a - b)\n",
    "print(a*b)\n",
    "print(a // b)\n",
    "print(a % b)\n",
    "print(round(a / b, 2))"
   ]
  },
  {
   "cell_type": "code",
   "execution_count": 4,
   "id": "ffd1deb7",
   "metadata": {},
   "outputs": [
    {
     "name": "stdout",
     "output_type": "stream",
     "text": [
      "7.0\n"
     ]
    }
   ],
   "source": [
    "a1, b1, c1, a2, b2, a3 = map(float, input().split())\n",
    "avg = ((a1 + b1 + c1) + (a2 + b2) * 2 + (a3) * 3) / 10\n",
    "print(round(avg, 1))"
   ]
  },
  {
   "cell_type": "code",
   "execution_count": 5,
   "id": "b0e5fd6e",
   "metadata": {},
   "outputs": [
    {
     "name": "stdout",
     "output_type": "stream",
     "text": [
      "8\n"
     ]
    }
   ],
   "source": [
    "a, b = map(int, input().split())\n",
    "print(a ** b)"
   ]
  },
  {
   "cell_type": "code",
   "execution_count": 6,
   "id": "4c996d0a",
   "metadata": {},
   "outputs": [
    {
     "name": "stdout",
     "output_type": "stream",
     "text": [
      "65\n",
      "A\n"
     ]
    }
   ],
   "source": [
    "char = input()\n",
    "num = ord(char) - 32\n",
    "print(ord(chr(num)))\n",
    "print(chr(num))"
   ]
  },
  {
   "cell_type": "code",
   "execution_count": 7,
   "id": "febb045c",
   "metadata": {},
   "outputs": [
    {
     "name": "stdout",
     "output_type": "stream",
     "text": [
      "512\n",
      "512\n"
     ]
    }
   ],
   "source": [
    "A = ((13 ** 2) * 3) + 5\n",
    "B = 13 ** 2 * 3 + 5\n",
    "print(A)\n",
    "print(B)"
   ]
  },
  {
   "cell_type": "code",
   "execution_count": 8,
   "id": "c9b2efea",
   "metadata": {},
   "outputs": [
    {
     "name": "stdout",
     "output_type": "stream",
     "text": [
      "212.0\n"
     ]
    }
   ],
   "source": [
    "c = float(input())\n",
    "f = 9/5 * c + 32\n",
    "print(round(f, 2))"
   ]
  },
  {
   "cell_type": "code",
   "execution_count": 9,
   "id": "51754706",
   "metadata": {},
   "outputs": [
    {
     "name": "stdout",
     "output_type": "stream",
     "text": [
      "150.7\n"
     ]
    }
   ],
   "source": [
    "x = float(input())\n",
    "Sum = 10 + x * 30 / 100 + x * 10 / 100 + x\n",
    "print(round(Sum, 2))"
   ]
  },
  {
   "cell_type": "code",
   "execution_count": 10,
   "id": "a8d915ac",
   "metadata": {},
   "outputs": [
    {
     "name": "stdout",
     "output_type": "stream",
     "text": [
      "Hi Jayce,Alice,Bob.\n"
     ]
    }
   ],
   "source": [
    "a = input().split(\" \")\n",
    "print(\"Hi\", a[2] + \",\" + a[1] + \",\" + a[0] + \".\")"
   ]
  },
  {
   "cell_type": "code",
   "execution_count": 11,
   "id": "b32a7165",
   "metadata": {},
   "outputs": [
    {
     "name": "stdout",
     "output_type": "stream",
     "text": [
      "5400.0\n"
     ]
    }
   ],
   "source": [
    "h, m = map(float, input().split())\n",
    "print(h * 60 * 60 + m * 60)"
   ]
  },
  {
   "cell_type": "code",
   "execution_count": 12,
   "id": "78c89fd2",
   "metadata": {},
   "outputs": [
    {
     "name": "stdout",
     "output_type": "stream",
     "text": [
      "96\n"
     ]
    }
   ],
   "source": [
    "n = int(input())\n",
    "print(n * n * 6)"
   ]
  },
  {
   "cell_type": "code",
   "execution_count": 13,
   "id": "30cd236b",
   "metadata": {},
   "outputs": [
    {
     "name": "stdout",
     "output_type": "stream",
     "text": [
      "0\n"
     ]
    }
   ],
   "source": [
    "a, b = map(int, input().split())\n",
    "print((a * b) % 10)"
   ]
  },
  {
   "cell_type": "code",
   "execution_count": 21,
   "id": "14b07edd",
   "metadata": {},
   "outputs": [
    {
     "name": "stdout",
     "output_type": "stream",
     "text": [
      "2 3\n",
      "3 2\n"
     ]
    }
   ],
   "source": [
    "a = 2\n",
    "b = 3\n",
    "print(a, b)\n",
    "a, b = b, a\n",
    "print(a, b)\n"
   ]
  },
  {
   "cell_type": "code",
   "execution_count": 18,
   "id": "f7587ee3",
   "metadata": {},
   "outputs": [
    {
     "name": "stdout",
     "output_type": "stream",
     "text": [
      "13\n"
     ]
    }
   ],
   "source": [
    "n = int(input())\n",
    "print(6 * n * (n - 1) + 1)"
   ]
  },
  {
   "cell_type": "code",
   "execution_count": 19,
   "id": "aac9f217",
   "metadata": {},
   "outputs": [
    {
     "name": "stdout",
     "output_type": "stream",
     "text": [
      "Spring\n",
      "Summer\n",
      "Autumn\n",
      "Winter\n"
     ]
    }
   ],
   "source": [
    "print(\"Spring\", \"Summer\", \"Autumn\", \"Winter\", sep = \"\\n\")"
   ]
  },
  {
   "cell_type": "code",
   "execution_count": 20,
   "id": "36180135",
   "metadata": {},
   "outputs": [
    {
     "name": "stdout",
     "output_type": "stream",
     "text": [
      "*\n",
      "***\n",
      "*****\n"
     ]
    }
   ],
   "source": [
    "print(\"*\")\n",
    "print(\"***\")\n",
    "print(\"*****\")"
   ]
  },
  {
   "cell_type": "code",
   "execution_count": 22,
   "id": "4fbf7744",
   "metadata": {},
   "outputs": [
    {
     "name": "stdout",
     "output_type": "stream",
     "text": [
      "### # #  ### ###\n",
      " #  #  #  #   #\n",
      " #  #   # #   #\n",
      " #  #  #  #   #\n",
      " #  # #   #   #\n"
     ]
    }
   ],
   "source": [
    "print(\"### # #  ### ###\")\n",
    "print(\" #  #  #  #   #\")\n",
    "print(\" #  #   # #   #\")\n",
    "print(\" #  #  #  #   #\")\n",
    "print(\" #  # #   #   #\")"
   ]
  },
  {
   "cell_type": "code",
   "execution_count": 23,
   "id": "8fd57f48",
   "metadata": {},
   "outputs": [
    {
     "name": "stdout",
     "output_type": "stream",
     "text": [
      "Monday\n",
      "Tuesday\n",
      "Wednesday\n",
      "Thursday\n",
      "Friday\n",
      "Saturday\n",
      "Sunday\n"
     ]
    }
   ],
   "source": [
    "print(\"Monday\", \"Tuesday\", \"Wednesday\", \"Thursday\", \"Friday\", \"Saturday\", \"Sunday\", sep = \"\\n\")"
   ]
  },
  {
   "cell_type": "code",
   "execution_count": 24,
   "id": "7e5ebb4c",
   "metadata": {},
   "outputs": [
    {
     "name": "stdout",
     "output_type": "stream",
     "text": [
      "January\n",
      "Febuary\n",
      "March\n",
      "April\n",
      "May\n",
      "June\n",
      "July\n",
      "August\n",
      "September\n",
      "October\n",
      "November\n",
      "December\n"
     ]
    }
   ],
   "source": [
    "print(\"January\", \"Febuary\", \"March\", \"April\", \"May\", \"June\", \"July\", \"August\", \"September\", \"October\", \"November\", \"December\", sep = \"\\n\")"
   ]
  },
  {
   "cell_type": "code",
   "execution_count": 25,
   "id": "f14b91dd",
   "metadata": {},
   "outputs": [
    {
     "name": "stdout",
     "output_type": "stream",
     "text": [
      "Hello, world\n",
      "Hello, world\n",
      "Hello, world\n",
      "Hello, world\n",
      "Hello, world\n",
      "Hello, world\n",
      "Hello, world\n",
      "Hello, world\n",
      "Hello, world\n",
      "Hello, world\n"
     ]
    }
   ],
   "source": [
    "for i in range (0, 10):\n",
    "    print(\"Hello, world\", end = \"\\n\")"
   ]
  }
 ],
 "metadata": {
  "kernelspec": {
   "display_name": "Python 3",
   "language": "python",
   "name": "python3"
  },
  "language_info": {
   "codemirror_mode": {
    "name": "ipython",
    "version": 3
   },
   "file_extension": ".py",
   "mimetype": "text/x-python",
   "name": "python",
   "nbconvert_exporter": "python",
   "pygments_lexer": "ipython3",
   "version": "3.11.9"
  }
 },
 "nbformat": 4,
 "nbformat_minor": 5
}
