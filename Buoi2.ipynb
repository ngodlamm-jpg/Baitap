{
 "cells": [
  {
   "cell_type": "code",
   "execution_count": 1,
   "id": "e56c153a",
   "metadata": {},
   "outputs": [
    {
     "name": "stdout",
     "output_type": "stream",
     "text": [
      "24\n"
     ]
    }
   ],
   "source": [
    "n = int(input())\n",
    "print(2 * n)"
   ]
  },
  {
   "cell_type": "code",
   "execution_count": 6,
   "id": "a14730ec",
   "metadata": {},
   "outputs": [
    {
     "name": "stdout",
     "output_type": "stream",
     "text": [
      "4.94\n"
     ]
    }
   ],
   "source": [
    "a = float(input())\n",
    "b = float(input())\n",
    "pi = 3.14\n",
    "r = a / 2\n",
    "circle = pi * r * r\n",
    "square = a * b\n",
    "print(round(square - circle, 2))"
   ]
  },
  {
   "cell_type": "code",
   "execution_count": 8,
   "id": "05adb5cb",
   "metadata": {},
   "outputs": [
    {
     "name": "stdout",
     "output_type": "stream",
     "text": [
      "A\n"
     ]
    }
   ],
   "source": [
    "char = input()\n",
    "if (ord(char) >= 65 and ord(char) <= 90):\n",
    "    print(char.lower())\n",
    "else:\n",
    "    print(char.upper())"
   ]
  },
  {
   "cell_type": "code",
   "execution_count": 10,
   "id": "d9c9bf55",
   "metadata": {},
   "outputs": [
    {
     "name": "stdout",
     "output_type": "stream",
     "text": [
      "{a} là kí tự alphabet\n"
     ]
    }
   ],
   "source": [
    "char = input()\n",
    "if ((ord(char) >= 65 and ord(char) <= 90) or (ord(char) >= 97 and ord(char) <= 122)):\n",
    "    print(\"{\"+char+\"}\", \"là kí tự alphabet\")\n",
    "else:\n",
    "    print(\"{\"+char+\"}\", \"không phải là kí tự alphabet\")"
   ]
  },
  {
   "cell_type": "code",
   "execution_count": 29,
   "id": "68869c0d",
   "metadata": {},
   "outputs": [
    {
     "name": "stdout",
     "output_type": "stream",
     "text": [
      "j\n"
     ]
    }
   ],
   "source": [
    "n = input()\n",
    "if (n == 'A'):\n",
    "    print('a')\n",
    "else:\n",
    "    num = ord(n) + 31\n",
    "    print(chr(num))"
   ]
  },
  {
   "cell_type": "code",
   "execution_count": 11,
   "id": "94b79b9d",
   "metadata": {},
   "outputs": [
    {
     "name": "stdout",
     "output_type": "stream",
     "text": [
      "6.0\n"
     ]
    }
   ],
   "source": [
    "from math import *\n",
    "a, b, c = map(float, input().split())\n",
    "if ((a + b > c) and (a + c > b) and (b + c > a)):\n",
    "    p = (a + b + c) / 2\n",
    "    print(round(sqrt(p * (p - a) * (p - b) * (p - c)), 1))"
   ]
  },
  {
   "cell_type": "code",
   "execution_count": 12,
   "id": "138f469c",
   "metadata": {},
   "outputs": [
    {
     "name": "stdout",
     "output_type": "stream",
     "text": [
      "t\n",
      "t\n"
     ]
    }
   ],
   "source": [
    "s = input()\n",
    "print(s[4])\n",
    "print(s[8])"
   ]
  },
  {
   "cell_type": "code",
   "execution_count": 37,
   "id": "89741fd4",
   "metadata": {},
   "outputs": [
    {
     "name": "stdout",
     "output_type": "stream",
     "text": [
      "Ho va ten: ngo\n",
      "Tien phai tra la: 1855505.0\n"
     ]
    }
   ],
   "source": [
    "name = input(\"Ten chu ho: \")\n",
    "monthed = float(input(\"Chi so thang truoc: \"))\n",
    "month = float(input(\"Chi so thang nay: \"))\n",
    "chi_so = month - monthed\n",
    "Sum = 0\n",
    "if (chi_so > 400):\n",
    "    Sum += (chi_so - 400) * 3460\n",
    "    chi_so = 400\n",
    "if (chi_so > 300):\n",
    "    Sum += (chi_so - 300) * 3350\n",
    "    chi_so = 300\n",
    "if (chi_so > 200):\n",
    "    Sum += (chi_so - 200) * 2998\n",
    "    chi_so = 200\n",
    "if (chi_so > 100):\n",
    "    Sum += (chi_so - 100) * 2380\n",
    "    chi_so = 100\n",
    "if (chi_so > 50):\n",
    "    Sum += (chi_so - 50) * 2050\n",
    "    chi_so = 50\n",
    "if (chi_so > 0):\n",
    "    Sum += chi_so * 1984\n",
    "print(\"Ho va ten: \" + name)\n",
    "print(\"Tien phai tra la:\", round(Sum * 1.08, 0))"
   ]
  },
  {
   "cell_type": "code",
   "execution_count": 13,
   "id": "92340e7a",
   "metadata": {},
   "outputs": [
    {
     "name": "stdout",
     "output_type": "stream",
     "text": [
      "True\n"
     ]
    }
   ],
   "source": [
    "n = int(input())\n",
    "print(n % 2 == 0)"
   ]
  },
  {
   "cell_type": "code",
   "execution_count": 14,
   "id": "a92396b5",
   "metadata": {},
   "outputs": [
    {
     "name": "stdout",
     "output_type": "stream",
     "text": [
      "False\n"
     ]
    }
   ],
   "source": [
    "n = int(input())\n",
    "if (n % 5 == 0 and n % 10 != 0):\n",
    "    print(\"True\")\n",
    "else:\n",
    "    print(\"False\")"
   ]
  },
  {
   "cell_type": "code",
   "execution_count": 15,
   "id": "4ece6815",
   "metadata": {},
   "outputs": [
    {
     "name": "stdout",
     "output_type": "stream",
     "text": [
      "True\n"
     ]
    }
   ],
   "source": [
    "n = int(input())\n",
    "if (n % 3 == 0 and n % 5 == 0):\n",
    "    print(\"True\")\n",
    "else:\n",
    "    print(\"False\")"
   ]
  },
  {
   "cell_type": "code",
   "execution_count": 16,
   "id": "79b2c2c3",
   "metadata": {},
   "outputs": [
    {
     "name": "stdout",
     "output_type": "stream",
     "text": [
      "đủ tuổi bầu cử\n"
     ]
    }
   ],
   "source": [
    "birth = int(input())\n",
    "if (2025 - birth >= 18):\n",
    "    print(\"đủ tuổi bầu cử\")\n",
    "else:\n",
    "    print(\"không đủ tuổi bầu cử\")"
   ]
  },
  {
   "cell_type": "code",
   "execution_count": 17,
   "id": "ee6228b1",
   "metadata": {},
   "outputs": [
    {
     "name": "stdout",
     "output_type": "stream",
     "text": [
      "5.0\n"
     ]
    }
   ],
   "source": [
    "a = float(input())\n",
    "b = float(input())\n",
    "if (a > b):\n",
    "    print(a)\n",
    "elif (a == b):\n",
    "    print(\"bằng nhau\")\n",
    "else:\n",
    "    print(b)"
   ]
  },
  {
   "cell_type": "code",
   "execution_count": null,
   "id": "69d5f37c",
   "metadata": {},
   "outputs": [
    {
     "name": "stdout",
     "output_type": "stream",
     "text": [
      "chữ\n"
     ]
    }
   ],
   "source": [
    "s = input()\n",
    "if ((ord(s) >= 65 and ord(s) <= 90) or (ord(s) >= 97 and ord(s) <= 122)):\n",
    "    print(\"chữ\")\n",
    "else:\n",
    "    print(\"số\")"
   ]
  },
  {
   "cell_type": "code",
   "execution_count": 21,
   "id": "14dee6c3",
   "metadata": {},
   "outputs": [
    {
     "name": "stdout",
     "output_type": "stream",
     "text": [
      "trung bình\n"
     ]
    }
   ],
   "source": [
    "score = float(input())\n",
    "if (score >= 8):\n",
    "    print(\"giỏi\")\n",
    "elif (score >= 6.5):\n",
    "    print(\"khá\")\n",
    "elif (score >= 5):\n",
    "    print(\"trung bình\")\n",
    "else:\n",
    "    print(\"yếu\")"
   ]
  },
  {
   "cell_type": "code",
   "execution_count": 22,
   "id": "f1e6f403",
   "metadata": {},
   "outputs": [
    {
     "name": "stdout",
     "output_type": "stream",
     "text": [
      "năm nhuận\n"
     ]
    }
   ],
   "source": [
    "year = int(input())\n",
    "if (year % 400 == 0 or (year % 4 == 0 and year % 100 != 0)):\n",
    "    print(\"năm nhuận\")\n",
    "else:\n",
    "    print(\"không phải năm nhuận\")"
   ]
  },
  {
   "cell_type": "code",
   "execution_count": 23,
   "id": "2ff29938",
   "metadata": {},
   "outputs": [
    {
     "name": "stdout",
     "output_type": "stream",
     "text": [
      "chín\n"
     ]
    }
   ],
   "source": [
    "n = int(input())\n",
    "match n:\n",
    "    case 0:\n",
    "        print(\"không\")\n",
    "    case 1:\n",
    "        print(\"một\")\n",
    "    case 2:\n",
    "        print(\"hai\")\n",
    "    case 3:\n",
    "        print(\"ba\")\n",
    "    case 4:\n",
    "        print(\"bốn\")\n",
    "    case 5:\n",
    "        print(\"năm\")\n",
    "    case 6:\n",
    "        print(\"sáu\")\n",
    "    case 7:\n",
    "        print(\"bảy\")\n",
    "    case 8:\n",
    "        print(\"tám\")\n",
    "    case 9:\n",
    "        print(\"chín\")"
   ]
  },
  {
   "cell_type": "code",
   "execution_count": 24,
   "id": "33a6e257",
   "metadata": {},
   "outputs": [
    {
     "name": "stdout",
     "output_type": "stream",
     "text": [
      "qua môn\n"
     ]
    }
   ],
   "source": [
    "score = float(input())\n",
    "if (score >= 4):\n",
    "    print(\"qua môn\")\n",
    "else:\n",
    "    print(\"học lại\")"
   ]
  },
  {
   "cell_type": "code",
   "execution_count": 38,
   "id": "9e43a3b9",
   "metadata": {},
   "outputs": [
    {
     "name": "stdout",
     "output_type": "stream",
     "text": [
      "đủ\n"
     ]
    }
   ],
   "source": [
    "birth = int(input())\n",
    "if (2025 - birth >= 18):\n",
    "    print(\"đủ\")\n",
    "else:\n",
    "    print(\"chưa đủ\")"
   ]
  }
 ],
 "metadata": {
  "kernelspec": {
   "display_name": "Python 3",
   "language": "python",
   "name": "python3"
  },
  "language_info": {
   "codemirror_mode": {
    "name": "ipython",
    "version": 3
   },
   "file_extension": ".py",
   "mimetype": "text/x-python",
   "name": "python",
   "nbconvert_exporter": "python",
   "pygments_lexer": "ipython3",
   "version": "3.11.9"
  }
 },
 "nbformat": 4,
 "nbformat_minor": 5
}
