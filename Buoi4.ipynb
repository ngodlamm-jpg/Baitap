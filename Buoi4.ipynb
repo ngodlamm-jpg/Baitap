{
 "cells": [
  {
   "cell_type": "code",
   "execution_count": 2,
   "id": "96883b9e",
   "metadata": {},
   "outputs": [
    {
     "name": "stdout",
     "output_type": "stream",
     "text": [
      "500500\n"
     ]
    }
   ],
   "source": [
    "Sum = 0\n",
    "n = int(input())\n",
    "for i in range(1, n + 1):\n",
    "    Sum += i\n",
    "print(Sum)"
   ]
  },
  {
   "cell_type": "code",
   "execution_count": 16,
   "id": "021c0d55",
   "metadata": {},
   "outputs": [
    {
     "name": "stdout",
     "output_type": "stream",
     "text": [
      "True\n"
     ]
    }
   ],
   "source": [
    "from math import *\n",
    "def prime(n):\n",
    "    if (n < 2):\n",
    "        return False\n",
    "    for i in range(2, int(sqrt(n)) + 1):\n",
    "        if (n % i == 0):\n",
    "            return False\n",
    "    return True\n",
    "n = int(input())\n",
    "while (n <= 0):\n",
    "    n = int(input())\n",
    "print(prime(n))"
   ]
  },
  {
   "cell_type": "code",
   "execution_count": 24,
   "id": "2bd40c9e",
   "metadata": {},
   "outputs": [
    {
     "name": "stdout",
     "output_type": "stream",
     "text": [
      "1\n"
     ]
    }
   ],
   "source": [
    "n = int(input())\n",
    "Factorial = 1\n",
    "for i in range(2, n + 1):\n",
    "    Factorial *= i\n",
    "print(Factorial)"
   ]
  },
  {
   "cell_type": "code",
   "execution_count": 33,
   "id": "fa2d706d",
   "metadata": {},
   "outputs": [
    {
     "name": "stdout",
     "output_type": "stream",
     "text": [
      "9\n"
     ]
    }
   ],
   "source": [
    "n = int(input())\n",
    "n = abs(n)\n",
    "count = 0\n",
    "while (n != 0):\n",
    "    count += 1\n",
    "    n //= 10\n",
    "print(count)"
   ]
  },
  {
   "cell_type": "code",
   "execution_count": null,
   "id": "e43f17b4",
   "metadata": {},
   "outputs": [
    {
     "name": "stdout",
     "output_type": "stream",
     "text": [
      "It's a joke\n"
     ]
    }
   ],
   "source": [
    "n = int(input())\n",
    "def meaning(n):\n",
    "    for i in range(n):\n",
    "        x = int(input())\n",
    "        if (x == 42):\n",
    "            print(\"I've found the meaning of life!\")\n",
    "            return \n",
    "    print(\"It's a joke!\")\n",
    "    return\n",
    "meaning(n)"
   ]
  },
  {
   "cell_type": "code",
   "execution_count": 47,
   "id": "e8f66eab",
   "metadata": {},
   "outputs": [
    {
     "name": "stdout",
     "output_type": "stream",
     "text": [
      "533\n"
     ]
    }
   ],
   "source": [
    "from math import *\n",
    "a, b = map(int, input().split())\n",
    "prime = [True] * 10000001\n",
    "prime[0] = False\n",
    "prime[1] = False\n",
    "def sang():\n",
    "    for i in range(2, int(sqrt(10000001)) + 1):\n",
    "        if (prime[i] == True):\n",
    "            for j in range(i * i, 10000001, i):\n",
    "                prime[j] = False\n",
    "    return\n",
    "Sum = 0\n",
    "sang()\n",
    "for i in range(a, b + 1):\n",
    "    if (prime[i] == True):\n",
    "        Sum += i\n",
    "print(Sum)"
   ]
  },
  {
   "cell_type": "code",
   "execution_count": 53,
   "id": "f41f29f6",
   "metadata": {},
   "outputs": [
    {
     "name": "stdout",
     "output_type": "stream",
     "text": [
      "99991\n"
     ]
    }
   ],
   "source": [
    "n = int(input())\n",
    "Max = -1\n",
    "for i in range(2, int(sqrt(n)) + 1):\n",
    "    if (n % i == 0):\n",
    "        n //= i\n",
    "        Max = max(Max, i)\n",
    "        while (n % i == 0):\n",
    "            n //= i\n",
    "if (n != 1):\n",
    "    Max = max(Max, n)\n",
    "print(Max)"
   ]
  },
  {
   "cell_type": "code",
   "execution_count": 66,
   "id": "0eb13532",
   "metadata": {},
   "outputs": [
    {
     "name": "stdout",
     "output_type": "stream",
     "text": [
      "4 9339\n"
     ]
    }
   ],
   "source": [
    "def palindrome(n):\n",
    "    if (n == n[::-1]):\n",
    "        return True\n",
    "    return False\n",
    "n = input()\n",
    "count = 0\n",
    "while (palindrome(n) == False):\n",
    "    count += 1\n",
    "    n = str(int(n) + int(n[::-1]))\n",
    "print(count, n)"
   ]
  },
  {
   "cell_type": "code",
   "execution_count": 79,
   "id": "e41ccf1c",
   "metadata": {},
   "outputs": [
    {
     "name": "stdout",
     "output_type": "stream",
     "text": [
      "no number\n"
     ]
    }
   ],
   "source": [
    "from math import *\n",
    "def dif(n):\n",
    "    A = []\n",
    "    while (n != 0):\n",
    "        A.append(n % 10)\n",
    "        n //= 10\n",
    "        if (n % 10) in A:\n",
    "            return False\n",
    "    return True\n",
    "n = int(input())\n",
    "count = 0\n",
    "for i in range(1, int(sqrt(n)) + 1):\n",
    "    if (dif(i * i) == True):\n",
    "        print(i * i, end = \" \")\n",
    "        count += 1\n",
    "if (count == 0):\n",
    "    print(\"no number\")"
   ]
  },
  {
   "cell_type": "code",
   "execution_count": 86,
   "id": "50262dfa",
   "metadata": {},
   "outputs": [
    {
     "name": "stdout",
     "output_type": "stream",
     "text": [
      "171 125\n"
     ]
    }
   ],
   "source": [
    "def collatz(n):\n",
    "    count = 1\n",
    "    while (n != 1):\n",
    "        if (n % 2 == 1):\n",
    "            n = 3 * n + 1\n",
    "        else:\n",
    "            n //= 2\n",
    "        count += 1\n",
    "    return count\n",
    "n = int(input())\n",
    "Max = -1\n",
    "for i in range(1, n + 1):\n",
    "    tmp = collatz(i)\n",
    "    if (Max < tmp):\n",
    "        Max = tmp\n",
    "        num = i\n",
    "print(num, Max)"
   ]
  },
  {
   "cell_type": "code",
   "execution_count": 33,
   "id": "a383a37e",
   "metadata": {},
   "outputs": [
    {
     "name": "stdout",
     "output_type": "stream",
     "text": [
      "12\n"
     ]
    }
   ],
   "source": [
    "from math import *\n",
    "n = int(input())\n",
    "count = 0\n",
    "for i in range(2, int(sqrt(n)) + 1):\n",
    "    if (n % i == 0 and i % 2 == 0):\n",
    "        count += 1\n",
    "    if ((n / i) % 2 == 0):\n",
    "        count += 1\n",
    "if (n % 2 == 0):\n",
    "    print(count + 1)\n",
    "else:\n",
    "    print(count)"
   ]
  },
  {
   "cell_type": "code",
   "execution_count": 38,
   "id": "0194d390",
   "metadata": {},
   "outputs": [
    {
     "name": "stdout",
     "output_type": "stream",
     "text": [
      "10902\n"
     ]
    }
   ],
   "source": [
    "x, n = map(float, input().split())\n",
    "Sum = x * (1 + 0.7 / 100) ** n\n",
    "print(int(Sum))"
   ]
  },
  {
   "cell_type": "code",
   "execution_count": 45,
   "id": "28013977",
   "metadata": {},
   "outputs": [
    {
     "name": "stdout",
     "output_type": "stream",
     "text": [
      "true\n"
     ]
    }
   ],
   "source": [
    "from math import *\n",
    "def uoc(n):\n",
    "    Sum = 0\n",
    "    for i in range(1, int(sqrt(n)) + 1):\n",
    "        if (n % i == 0):\n",
    "            Sum += i\n",
    "            Sum += (n // i)\n",
    "    return Sum - n\n",
    "a, b = map(int, input().split())\n",
    "if (uoc(a) == b and uoc(b) == a):\n",
    "    print(\"true\")\n",
    "else:\n",
    "    print(\"false\")"
   ]
  },
  {
   "cell_type": "code",
   "execution_count": 51,
   "id": "5ee20fa0",
   "metadata": {},
   "outputs": [
    {
     "name": "stdout",
     "output_type": "stream",
     "text": [
      "8\n"
     ]
    }
   ],
   "source": [
    "m, n = map(int, input().split())\n",
    "def GCD(m, n):\n",
    "    if (n == 0):\n",
    "        return m\n",
    "    return GCD(n, m % n)\n",
    "print(GCD(m, n))"
   ]
  },
  {
   "cell_type": "code",
   "execution_count": 56,
   "id": "4f2669c1",
   "metadata": {},
   "outputs": [
    {
     "name": "stdout",
     "output_type": "stream",
     "text": [
      "119 1\n"
     ]
    }
   ],
   "source": [
    "animal, feet = map(int, input().split())\n",
    "y = (feet - 2 * animal) / 2\n",
    "if (y == int(y)):\n",
    "    x = animal - y\n",
    "    print(int(x), int(y))\n",
    "else:\n",
    "    print(\"invalid\")"
   ]
  },
  {
   "cell_type": "code",
   "execution_count": 58,
   "id": "3a289827",
   "metadata": {},
   "outputs": [
    {
     "name": "stdout",
     "output_type": "stream",
     "text": [
      "0 3 6 9 12 15 18 21 24 27 30 33 36 39 42 45 48 51 54 57 60 63 66 69 72 75 78 81 84 87 90 93 96 99 "
     ]
    }
   ],
   "source": [
    "for i in range(0, 100, 3):\n",
    "    print(i, end = \" \")"
   ]
  },
  {
   "cell_type": "code",
   "execution_count": 63,
   "id": "901867a4",
   "metadata": {},
   "outputs": [
    {
     "name": "stdout",
     "output_type": "stream",
     "text": [
      "9 x 1 = 9\n",
      "9 x 2 = 18\n",
      "9 x 3 = 27\n",
      "9 x 4 = 36\n",
      "9 x 5 = 45\n",
      "9 x 6 = 54\n",
      "9 x 7 = 63\n",
      "9 x 8 = 72\n",
      "9 x 9 = 81\n",
      "9 x 10 = 90\n"
     ]
    }
   ],
   "source": [
    "a = int(input())\n",
    "for i in range(1, 11):\n",
    "    print(a, \"x\", i, \"=\", a * i)"
   ]
  },
  {
   "cell_type": "code",
   "execution_count": 67,
   "id": "08efe92d",
   "metadata": {},
   "outputs": [
    {
     "name": "stdout",
     "output_type": "stream",
     "text": [
      "2 4 6 8 10 12 14 16 18 20 "
     ]
    }
   ],
   "source": [
    "n = int(input())\n",
    "for i in range(2, n + 1, 2):\n",
    "    print(i, end = \" \")"
   ]
  },
  {
   "cell_type": "code",
   "execution_count": 70,
   "id": "0c5c4ffa",
   "metadata": {},
   "outputs": [
    {
     "name": "stdout",
     "output_type": "stream",
     "text": [
      "False\n"
     ]
    }
   ],
   "source": [
    "from math import *\n",
    "n = int(input())\n",
    "print(log2(n) == int(log2(n)))"
   ]
  },
  {
   "cell_type": "code",
   "execution_count": 72,
   "id": "2634bee3",
   "metadata": {},
   "outputs": [
    {
     "name": "stdout",
     "output_type": "stream",
     "text": [
      "45\n"
     ]
    }
   ],
   "source": [
    "n = int(input())\n",
    "Sum = 0\n",
    "while n != 0:\n",
    "    Sum += (n % 10)\n",
    "    n //= 10\n",
    "print(Sum)"
   ]
  },
  {
   "cell_type": "code",
   "execution_count": 73,
   "id": "6e59b722",
   "metadata": {},
   "outputs": [
    {
     "name": "stdout",
     "output_type": "stream",
     "text": [
      "4 5\n"
     ]
    }
   ],
   "source": [
    "n = int(input())\n",
    "Sum_even = 0\n",
    "Sum_odd = 0\n",
    "while (n != 0):\n",
    "    if ((n % 10) % 2 == 0):\n",
    "        Sum_even += 1\n",
    "    else:\n",
    "        Sum_odd += 1\n",
    "    n //= 10\n",
    "print(Sum_even, Sum_odd)"
   ]
  },
  {
   "cell_type": "code",
   "execution_count": 75,
   "id": "5ab4c196",
   "metadata": {},
   "outputs": [
    {
     "name": "stdout",
     "output_type": "stream",
     "text": [
      "3.0\n"
     ]
    }
   ],
   "source": [
    "from math import *\n",
    "n = float(input())\n",
    "k = (-1 + sqrt(1 + 8 * n)) / 2\n",
    "if (k == int(k)):\n",
    "    print(k - 1)\n",
    "else:\n",
    "    print(int(k))"
   ]
  },
  {
   "cell_type": "code",
   "execution_count": 80,
   "id": "85a777df",
   "metadata": {},
   "outputs": [
    {
     "name": "stdout",
     "output_type": "stream",
     "text": [
      "84\n"
     ]
    }
   ],
   "source": [
    "A = float(input())\n",
    "i = 1\n",
    "Sum = 0\n",
    "while (Sum <= A):\n",
    "    Sum += (1 / i)\n",
    "    i += 1\n",
    "print(i)"
   ]
  },
  {
   "cell_type": "code",
   "execution_count": 82,
   "id": "63dfcc0f",
   "metadata": {},
   "outputs": [
    {
     "name": "stdout",
     "output_type": "stream",
     "text": [
      "5 -10\n"
     ]
    }
   ],
   "source": [
    "n = int(input())\n",
    "Max = -1\n",
    "Min = 99999999\n",
    "while (n != -1):\n",
    "    n = int(input())\n",
    "    Max = max(Max, n)\n",
    "    Min = min(Min, n)\n",
    "print(Max, Min)"
   ]
  },
  {
   "cell_type": "code",
   "execution_count": 85,
   "id": "87731b66",
   "metadata": {},
   "outputs": [
    {
     "name": "stdout",
     "output_type": "stream",
     "text": [
      "8\n"
     ]
    }
   ],
   "source": [
    "A = int(input())\n",
    "f1 = 1\n",
    "f2 = 1\n",
    "f3 = f1 + f2\n",
    "while (f3 <= A):\n",
    "    f1 = f2\n",
    "    f2 = f3\n",
    "    f3 = f1 + f2\n",
    "print(f2)"
   ]
  },
  {
   "cell_type": "code",
   "execution_count": 90,
   "id": "8fb089cb",
   "metadata": {},
   "outputs": [
    {
     "name": "stdout",
     "output_type": "stream",
     "text": [
      "4\n"
     ]
    }
   ],
   "source": [
    "s = input()\n",
    "count = 1\n",
    "for i in range(len(s)):\n",
    "    if (s[i] == \" \" and i + 1 < len(s)):\n",
    "        count += 1\n",
    "print(count)"
   ]
  },
  {
   "cell_type": "code",
   "execution_count": 89,
   "id": "0c970814",
   "metadata": {},
   "outputs": [
    {
     "name": "stdout",
     "output_type": "stream",
     "text": [
      "f f f f "
     ]
    }
   ],
   "source": [
    "s = input()\n",
    "print(s[0], end = \" \")\n",
    "for i in range(1, len(s)):\n",
    "    if (s[i] == \" \" and i + 1 < len(s)):\n",
    "        print(s[i + 1], end = \" \")\n"
   ]
  },
  {
   "cell_type": "code",
   "execution_count": 35,
   "id": "a0933686",
   "metadata": {},
   "outputs": [
    {
     "name": "stdout",
     "output_type": "stream",
     "text": [
      "105444\n"
     ]
    }
   ],
   "source": [
    "s = input()\n",
    "Sum = 0\n",
    "s += \",\"\n",
    "i = 0\n",
    "while (i < len(s) - 1):\n",
    "    if (s[i] != \",\" and s[i] != \" \"):\n",
    "        start = i\n",
    "        for j in range(i + 1, len(s)):\n",
    "            if (s[j] == \",\"):\n",
    "                stop = j\n",
    "                Sum += int(s[start:stop])\n",
    "                i = j + 1\n",
    "                break\n",
    "    i += 1\n",
    "print(Sum)"
   ]
  },
  {
   "cell_type": "code",
   "execution_count": null,
   "id": "84136bfa",
   "metadata": {},
   "outputs": [
    {
     "name": "stdout",
     "output_type": "stream",
     "text": [
      "4 4 3\n"
     ]
    }
   ],
   "source": [
    "s = input()\n",
    "Sum_upper = 0\n",
    "Sum_lower = 0\n",
    "Sum_number = 0\n",
    "for i in s:\n",
    "    if ord(i) >= 48 and ord(i) <= 57:\n",
    "        Sum_number += 1\n",
    "    elif ord(i) >= 65 and ord(i) <= 90:\n",
    "        Sum_upper += 1\n",
    "    elif ord(i) >= 97 and ord(i) <= 122:\n",
    "        Sum_lower += 1\n",
    "print(Sum_upper, Sum_lower, Sum_number)"
   ]
  },
  {
   "cell_type": "code",
   "execution_count": 38,
   "id": "6a680929",
   "metadata": {},
   "outputs": [
    {
     "name": "stdout",
     "output_type": "stream",
     "text": [
      "22\n"
     ]
    }
   ],
   "source": [
    "s = input()\n",
    "Sum = 0\n",
    "for i in s:\n",
    "    if ord(i) >= 48 and ord(i) <= 57:\n",
    "        Sum += int(i)\n",
    "print(Sum)"
   ]
  },
  {
   "cell_type": "code",
   "execution_count": 40,
   "id": "c3603d90",
   "metadata": {},
   "outputs": [
    {
     "name": "stdout",
     "output_type": "stream",
     "text": [
      "mạnh\n"
     ]
    }
   ],
   "source": [
    "s = input()\n",
    "Sum_upper = 0\n",
    "Sum_lower = 0\n",
    "Sum_number = 0\n",
    "sum_special = 0\n",
    "for i in s:\n",
    "    if ord(i) >= 48 and ord(i) <= 57:\n",
    "        Sum_number += 1\n",
    "    elif ord(i) >= 65 and ord(i) <= 90:\n",
    "        Sum_upper += 1\n",
    "    elif ord(i) >= 97 and ord(i) <= 122:\n",
    "        Sum_lower += 1\n",
    "    else:\n",
    "        sum_special += 1\n",
    "if (Sum_upper > 0 and Sum_lower > 0 and Sum_number > 0 and sum_special > 0 and len(s) > 6):\n",
    "    print(\"mạnh\")\n",
    "else:\n",
    "    print(\"yếu\")"
   ]
  },
  {
   "cell_type": "code",
   "execution_count": 43,
   "id": "c1af4e35",
   "metadata": {},
   "outputs": [
    {
     "name": "stdout",
     "output_type": "stream",
     "text": [
      "123.456.789"
     ]
    }
   ],
   "source": [
    "s = input()\n",
    "count = 0\n",
    "for i in s:\n",
    "    count += 1\n",
    "    print(i, end = \"\")\n",
    "    if (count == 3):\n",
    "        if (i == s[len(s) - 1]):\n",
    "            break\n",
    "        print(\".\", end = \"\")\n",
    "        count = 0"
   ]
  },
  {
   "cell_type": "code",
   "execution_count": 2,
   "id": "732fcec3",
   "metadata": {},
   "outputs": [
    {
     "name": "stdout",
     "output_type": "stream",
     "text": [
      "okla \n"
     ]
    }
   ],
   "source": [
    "def remove_substring(a, b):\n",
    "    ans = \"\"\n",
    "    i = 0\n",
    "    while (i < len(a)):\n",
    "        if (a[i:i+len(b)] == b):\n",
    "            i += len(b)\n",
    "        else:\n",
    "            ans += a[i]\n",
    "            i += 1\n",
    "    return ans\n",
    "a = input()\n",
    "b = input()\n",
    "ans = remove_substring(a, b)\n",
    "print(ans)"
   ]
  }
 ],
 "metadata": {
  "kernelspec": {
   "display_name": "Python 3",
   "language": "python",
   "name": "python3"
  },
  "language_info": {
   "codemirror_mode": {
    "name": "ipython",
    "version": 3
   },
   "file_extension": ".py",
   "mimetype": "text/x-python",
   "name": "python",
   "nbconvert_exporter": "python",
   "pygments_lexer": "ipython3",
   "version": "3.11.9"
  }
 },
 "nbformat": 4,
 "nbformat_minor": 5
}
